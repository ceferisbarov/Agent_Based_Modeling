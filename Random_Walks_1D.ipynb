{
 "cells": [
  {
   "cell_type": "markdown",
   "metadata": {},
   "source": [
    "# Problem 3 (One Dimensional)\n",
    "Start with n particles placed in the same point in a one dimensional grid. At each time step, each particle will randomly decide to move one step to the left or one step to the right to the neighboring point in the grid. Run the program for T time steps. After T time steps, record the number of particles at each point in the grid. Run the simulation for N = 100, N = 1000, N = 10,000, and finally for N = 100,000 times. Record the average number of particles in each point in the grid. How do things change when you vary T ? How do things change from N = 10,000 and N = 100,000? How do things change if you allow particles to choose between moving left, moving right or staying?<sup>1</sup>\n",
    "## The code:"
   ]
  },
  {
   "cell_type": "code",
   "execution_count": 2,
   "metadata": {},
   "outputs": [],
   "source": [
    "import matplotlib.pyplot as plt\n",
    "import random\n",
    "import copy"
   ]
  },
  {
   "cell_type": "code",
   "execution_count": 3,
   "metadata": {},
   "outputs": [],
   "source": [
    "def create_grid(count, length):\n",
    "    '''Creates an array of lists with equal length.'''\n",
    "    grid = [[0 for n in range(length)] for n in range(count)]\n",
    "    \n",
    "    for n in range(count):\n",
    "        grid[n][len(grid[0]) // 2] = 1\n",
    "        \n",
    "    return grid"
   ]
  },
  {
   "cell_type": "code",
   "execution_count": 4,
   "metadata": {},
   "outputs": [],
   "source": [
    "def move(grid, direction):\n",
    "    '''Given the direction (left or right) to move, converts 010 to 100 (left) or 001 (right).'''\n",
    "    index = grid.index(1)\n",
    "    \n",
    "    if direction == 'right':\n",
    "        grid[index + 1] = 1\n",
    "        grid[index] = 0\n",
    "        \n",
    "    elif direction == 'left':\n",
    "        grid[index - 1] = 1\n",
    "        grid[index] = 0"
   ]
  },
  {
   "cell_type": "code",
   "execution_count": null,
   "metadata": {},
   "outputs": [],
   "source": [
    "def count_particles(grid):\n",
    "    '''counts the total number of particles in each position from all lists in the grid'''\n",
    "    particle_count = [0 for n in range(len(grid[0]))]\n",
    "\n",
    "    for i in range(len(grid)):\n",
    "        for j in range(len(grid[i])):\n",
    "            if grid[i][j] == 1:\n",
    "                particle_count[j] += 1\n",
    "\n",
    "    return particle_count"
   ]
  },
  {
   "cell_type": "code",
   "execution_count": null,
   "metadata": {},
   "outputs": [],
   "source": [
    "def visualize(list, length):\n",
    "    '''Creates a scatter plot of position vs. frequency'''\n",
    "    fig = plt.figure()\n",
    "    ax = fig.add_axes([0,0,1,1])\n",
    "    positions = range(length)\n",
    "    ax.scatter(positions, list)\n",
    "    plt.show()"
   ]
  },
  {
   "cell_type": "code",
   "execution_count": 29,
   "metadata": {},
   "outputs": [],
   "source": [
    "def find_mean(list_of_grids):\n",
    "    total = [sum(x) for x in zip(*list_of_grids)]\n",
    "    mean = [total[i] / len(list_of_grids) for i in range(len(total))]    \n",
    "    \n",
    "    return mean"
   ]
  },
  {
   "cell_type": "code",
   "execution_count": 30,
   "metadata": {},
   "outputs": [],
   "source": [
    "def main(count, steps, repeat):\n",
    "#    print(\"The number of particles (n): \")\n",
    "#    count = int(input())\n",
    "#    print(\"The number of steps (T): \")\n",
    "#    steps = int(input())\n",
    "#    length = 2 * steps\n",
    "#    print(\"The number of repeats (N): \")\n",
    "#    repeat = int(input())\n",
    "    length = 2 * steps\n",
    "    \n",
    "    total_particles = []\n",
    "    \n",
    "    for n in range(repeat):\n",
    "        grid = create_grid(count, length)\n",
    "\n",
    "        for x in range(steps):\n",
    "            for n in range(count):\n",
    "                if random.random() < 0.5:\n",
    "                    move(grid[n], 'right')\n",
    "                else:\n",
    "                    move(grid[n], 'left')\n",
    "        \n",
    "        total_particles.append(count_particles(grid))\n",
    "        \n",
    "        \n",
    "    mean = find_mean(total_particles)\n",
    "    visualize(mean, length)"
   ]
  },
  {
   "cell_type": "markdown",
   "metadata": {},
   "source": [
    "## Part I\n",
    "Run the simulation for N = 100, N = 1000, N = 10,000, and finally for N = 100,000 times. Record the average number of particles in each point in the grid."
   ]
  },
  {
   "cell_type": "markdown",
   "metadata": {},
   "source": [
    "#### Attempt 1:\n",
    "n = 50    \n",
    "T = 100    \n",
    "(length = 2 * T)    \n",
    "N = 100"
   ]
  },
  {
   "cell_type": "code",
   "execution_count": 21,
   "metadata": {
    "scrolled": false
   },
   "outputs": [
    {
     "data": {
      "image/png": "[encoded data removed]",
      "text/plain": [
       "<Figure size 432x288 with 1 Axes>"
      ]
     },
     "metadata": {
      "needs_background": "light"
     },
     "output_type": "display_data"
    }
   ],
   "source": [
    "main(50, 100, 100)"
   ]
  },
  {
   "cell_type": "markdown",
   "metadata": {},
   "source": [
    "#### Attempt 2:\n",
    "n = 50    \n",
    "T = 100    \n",
    "(length = 2 * T)    \n",
    "N = 1000"
   ]
  },
  {
   "cell_type": "code",
   "execution_count": 22,
   "metadata": {},
   "outputs": [
    {
     "data": {
      "image/png": "[encoded data removed]",
      "text/plain": [
       "<Figure size 432x288 with 1 Axes>"
      ]
     },
     "metadata": {
      "needs_background": "light"
     },
     "output_type": "display_data"
    }
   ],
   "source": [
    "main(50, 100, 1000)"
   ]
  },
  {
   "cell_type": "markdown",
   "metadata": {},
   "source": [
    "#### Attempt 3:\n",
    "n = 50   \n",
    "T = 100   \n",
    "(length = 2 * T)   \n",
    "N = 10000   "
   ]
  },
  {
   "cell_type": "code",
   "execution_count": 23,
   "metadata": {},
   "outputs": [
    {
     "data": {
      "image/png": "[encoded data removed]",
      "text/plain": [
       "<Figure size 432x288 with 1 Axes>"
      ]
     },
     "metadata": {
      "needs_background": "light"
     },
     "output_type": "display_data"
    }
   ],
   "source": [
    "main(50, 100, 10000)"
   ]
  },
  {
   "cell_type": "markdown",
   "metadata": {},
   "source": [
    "#### Attempt 4:\n",
    "n = 50   \n",
    "T = 100   \n",
    "(length = 2 * T)   \n",
    "N = 100000\n",
    "\n",
    "(This attempt was abandoned for the sake of well-being of the laptop and my nerves.)\n",
    "#### Conclusion\n",
    "As N increases, model approaches Gaussian distribution.\n",
    "## Part II:\n",
    "How do things change when you vary T?   \n",
    "#### Attempt 5:\n",
    "n = 50   \n",
    "T = 100   \n",
    "(length = 2 * T)   \n",
    "N = 1000"
   ]
  },
  {
   "cell_type": "code",
   "execution_count": null,
   "metadata": {},
   "outputs": [],
   "source": [
    "main(50, 100, 1000)"
   ]
  },
  {
   "cell_type": "markdown",
   "metadata": {},
   "source": [
    "#### Attempt 6:\n",
    "n = 50   \n",
    "T = 200     \n",
    "(length = 2 * T)   \n",
    "N = 1000"
   ]
  },
  {
   "cell_type": "code",
   "execution_count": null,
   "metadata": {},
   "outputs": [],
   "source": [
    "main(50, 200, 1000)"
   ]
  },
  {
   "cell_type": "markdown",
   "metadata": {},
   "source": [
    "#### Attempt 7:\n",
    "n = 50   \n",
    "T = 300     \n",
    "(length = 2 * T)   \n",
    "N = 1000"
   ]
  },
  {
   "cell_type": "code",
   "execution_count": null,
   "metadata": {},
   "outputs": [],
   "source": [
    "main(50, 300, 1000)"
   ]
  },
  {
   "cell_type": "markdown",
   "metadata": {},
   "source": [
    "#### Conclusion\n"
   ]
  },
  {
   "cell_type": "markdown",
   "metadata": {},
   "source": [
    "## Part III:\n",
    "How do things change from N = 10,000 and N = 100,000?   \n",
    "    \n",
    "(Abandoned, as my laptop cannot run (N = 100,00).\n",
    "## Part IV:\n",
    "How do things change if you allow particles to choose between moving left, moving right or staying?\n",
    "#### The revised code:\n",
    "Revised move function:"
   ]
  },
  {
   "cell_type": "code",
   "execution_count": 32,
   "metadata": {},
   "outputs": [],
   "source": [
    "def move(grid, direction):\n",
    "    index = grid.index(1)\n",
    "    \n",
    "    if direction == 'right':\n",
    "        grid[index + 1] = 1\n",
    "        grid[index] = 0\n",
    "        \n",
    "    elif direction == 'left':\n",
    "        grid[index - 1] = 1\n",
    "        grid[index] = 0\n",
    "        \n",
    "    elif direction == 'stay':\n",
    "        pass"
   ]
  },
  {
   "cell_type": "markdown",
   "metadata": {},
   "source": [
    "Revised main function:"
   ]
  },
  {
   "cell_type": "code",
   "execution_count": 36,
   "metadata": {},
   "outputs": [],
   "source": [
    "def main(count, steps, repeat):\n",
    "#    print(\"The number of particles (n): \")\n",
    "#    count = int(input())\n",
    "#    print(\"The number of steps (T): \")\n",
    "#    steps = int(input())\n",
    "#    length = 2 * steps\n",
    "#    print(\"The number of repeats (N): \")\n",
    "#    repeat = int(input())\n",
    "    length = 2 * steps\n",
    "    \n",
    "    total_particles = []\n",
    "    \n",
    "    for n in range(repeat):\n",
    "        grid = create_grid(count, length)\n",
    "\n",
    "        for x in range(steps):\n",
    "            for n in range(count):\n",
    "                if random.random() < 1/3:\n",
    "                    move(grid[n], 'right')\n",
    "                elif random.random() < 1/2:\n",
    "                    move(grid[n], 'left')\n",
    "                else:\n",
    "                    move(grid[n], 'stay')\n",
    "        \n",
    "        total_particles.append(count_particles(grid))\n",
    "        \n",
    "        \n",
    "    mean = find_mean(total_particles)\n",
    "    visualize(mean, length)"
   ]
  },
  {
   "cell_type": "markdown",
   "metadata": {},
   "source": [
    "#### Attempt 8:\n",
    "n = 50  \n",
    "T = 100  \n",
    "(length = 2 * T)  \n",
    "N = 1000"
   ]
  },
  {
   "cell_type": "code",
   "execution_count": 38,
   "metadata": {},
   "outputs": [
    {
     "data": {
      "image/png": "[encoded data removed]",
      "text/plain": [
       "<Figure size 432x288 with 1 Axes>"
      ]
     },
     "metadata": {
      "needs_background": "light"
     },
     "output_type": "display_data"
    }
   ],
   "source": [
    "main(50, 100, 1000)"
   ]
  },
  {
   "cell_type": "markdown",
   "metadata": {},
   "source": [
    "#### Conclusion:\n",
    "Deviation of the model has decreased.  "
   ]
  }
 ],
 "metadata": {
  "kernelspec": {
   "display_name": "Python 3",
   "language": "python",
   "name": "python3"
  },
  "language_info": {
   "codemirror_mode": {
    "name": "ipython",
    "version": 3
   },
   "file_extension": ".py",
   "mimetype": "text/x-python",
   "name": "python",
   "nbconvert_exporter": "python",
   "pygments_lexer": "ipython3",
   "version": "3.7.4"
  }
 },
 "nbformat": 4,
 "nbformat_minor": 2
}

{
 "cells": [
  {
   "cell_type": "markdown",
   "metadata": {},
   "source": [
    "# Problem 5 (Directed Walks, continued)\n",
    "Start with two different kinds of particles. Think of the particles as predator and a prey. Predators sense and chase prey. In practice, that means that a certain percent of the time, 0 ≤ q ≤ 1, which is fixed and given at the beginning of the simulation, predators will move towards prey and the rest of the time (1 − q), they will just move randomly. Start in one dimension with one predator and one prey and for now let the prey move completely randomly. Vary initial condition and report the time it takes for the predator to reach the prey. This exercise is far more interesting in two and three dimensions; do both, and pick how many directions of movement you want to use.\n",
    "## Part II: 2D"
   ]
  },
  {
   "cell_type": "code",
   "execution_count": 1,
   "metadata": {},
   "outputs": [],
   "source": [
    "import matplotlib.pyplot as plt\n",
    "import numpy as np\n",
    "import random\n",
    "import copy"
   ]
  },
  {
   "cell_type": "code",
   "execution_count": 2,
   "metadata": {},
   "outputs": [],
   "source": [
    "def create_grid(count, length):\n",
    "    '''\n",
    "    Creates an array of double planes with equal dimensions.\n",
    "    The first plane shows location of the predator, while the second plane shows location of the prey.\n",
    "    '''\n",
    "    grid = np.array([[[[0 for i in range(length)] for j in range(length)] for n in range(2)] for n in range(count)])\n",
    "    \n",
    "    for n in range(count):\n",
    "        #1 symbolizes the predator, -1 symbolizes the prey\n",
    "        grid[n][0][len(grid[0][0]) // 3][len(grid[0][0]) // 3] = predator\n",
    "        grid[n][1][len(grid[0][1]) * 2 // 3][len(grid[0][1]) * 2 // 3] = prey\n",
    "        \n",
    "    return grid"
   ]
  },
  {
   "cell_type": "code",
   "execution_count": 3,
   "metadata": {},
   "outputs": [],
   "source": [
    "def move_random(grid, animal, direction):\n",
    "    '''Given the direction to move (left, right, up, or down), updates the array to show the new position.'''\n",
    "    index = index_2d(grid, animal)\n",
    "    \n",
    "    try:\n",
    "        if direction == 'right':\n",
    "                grid[index[0]][index[1] + 1] = animal\n",
    "                grid[index[0]][index[1]] = 0\n",
    "\n",
    "        elif direction == 'left':\n",
    "            grid[index[0]][index[1] - 1] = animal\n",
    "            grid[index[0]][index[1]] = 0\n",
    "\n",
    "        elif direction == 'up':\n",
    "            grid[index[0] - 1][index[1]] = animal\n",
    "            grid[index[0]][index[1]] = 0\n",
    "\n",
    "        elif direction == 'down':\n",
    "            grid[index[0] + 1][index[1]] = animal\n",
    "            grid[index[0]][index[1]] = 0\n",
    "            \n",
    "    except IndexError:\n",
    "            pass\n"
   ]
  },
  {
   "cell_type": "code",
   "execution_count": 4,
   "metadata": {},
   "outputs": [],
   "source": [
    "def move_to_prey(grid):\n",
    "    '''Finds position of the prey relative to the predator, and moves the predator towards the prey.'''\n",
    "    \n",
    "    index_predator = index_2d(grid[0], predator)\n",
    "    index_prey = index_2d(grid[1], prey)\n",
    "\n",
    "    if index_predator[0] > index_prey[0]:\n",
    "        grid[0][index_predator[0] - 1][index_predator[1]] = predator\n",
    "        grid[0][index_predator[0]][index_predator[1]] = 0\n",
    "        \n",
    "    elif index_prey[0] > index_predator[0]:\n",
    "        grid[0][index_predator[0] + 1][index_predator[1]] = predator\n",
    "        grid[0][index_predator[0]][index_predator[1]] = 0\n",
    "        \n",
    "    index_predator = index_2d(grid[0], predator)\n",
    "    index_prey = index_2d(grid[1], prey)\n",
    "\n",
    "    if index_predator[1] > index_prey[1]:\n",
    "        grid[0][index_predator[0]][index_predator[1] - 1] = predator\n",
    "        grid[0][index_predator[0]][index_predator[1]] = 0\n",
    "        \n",
    "    elif index_prey[1] > index_predator[1]:\n",
    "        grid[0][index_predator[0]][index_predator[1] + 1] = predator\n",
    "        grid[0][index_predator[0]][index_predator[1]] = 0"
   ]
  },
  {
   "cell_type": "code",
   "execution_count": 5,
   "metadata": {},
   "outputs": [],
   "source": [
    "def index_2d(array, element):\n",
    "    for i in range(len(array)):\n",
    "        for j in range(len(array[i])):\n",
    "            if array[i][j] == element:\n",
    "                index = (i, j)\n",
    "                \n",
    "    try:\n",
    "        return index\n",
    "    except UnboundLocalError:\n",
    "        print(\"Element not found.\")"
   ]
  },
  {
   "cell_type": "code",
   "execution_count": 21,
   "metadata": {},
   "outputs": [],
   "source": [
    "def main():\n",
    "#    print(\"The number of particles (n): \")\n",
    "#    count = int(input())\n",
    "#    print(\"The number of steps (T): \")\n",
    "#    steps = int(input())\n",
    "#    length = 2 * steps\n",
    "#    print(\"The number of repeats (N): \")\n",
    "#    repeat = int(input())\n",
    "\n",
    "    global predator\n",
    "    predator = 1\n",
    "    global prey\n",
    "    prey = -2\n",
    "    \n",
    "    repeat = 100\n",
    "    length = 100\n",
    "    count = 1\n",
    "    q = 1\n",
    "    \n",
    "    total_time = np.array([])\n",
    "    for n in range(repeat):\n",
    "        #TODO: rewrite the indexing wiht a numpy function\n",
    "        grid = create_grid(count, length)\n",
    "\n",
    "        index_prey = index_2d(grid[0][1], prey)\n",
    "        index_predator = index_2d(grid[0][0], predator)\n",
    "        time = 0\n",
    "        while((index_predator[0], index_predator[1]) != (index_prey[0], index_prey[1])):\n",
    "                time += 1\n",
    "                chance = random.random()\n",
    "                if chance < 0.25:\n",
    "                    move_random(grid[0][1], prey, 'right')\n",
    "                elif chance < 0.5:\n",
    "                    move_random(grid[0][1], prey, 'left')\n",
    "                elif chance < 0.75:\n",
    "                    move_random(grid[0][1], prey, 'up')\n",
    "                else:\n",
    "                    move_random(grid[0][1], prey, 'down')\n",
    "                   \n",
    "                chance = random.random()\n",
    "                if chance < q:\n",
    "                    move_to_prey(grid[0])\n",
    "                elif chance < (1 - q) / 4:\n",
    "                     move_random(grid[0][0], predator, 'right')\n",
    "                elif chance < (1 - q) / 2:\n",
    "                     move_random(grid[0][0], predator, 'left')\n",
    "                elif chance < (1 - q) * 3 / 4:\n",
    "                     move_random(grid[0][0], predator, 'up')\n",
    "                else:\n",
    "                    move_random(grid[0][0], predator, 'down')\n",
    "                \n",
    "                #TODO: rewrite the indexing wiht a numpy function (continued)\n",
    "                index_prey = index_2d(grid[0][1], prey)\n",
    "                index_predator = index_2d(grid[0][0], predator)\n",
    "                \n",
    "                full_grid = np.add(grid[0][0], grid[0][1])\n",
    "\n",
    "                                    \n",
    "        total_time = np.append(total_time, time)\n",
    "                    \n",
    "    print(total_time, np.mean(total_time))"
   ]
  },
  {
   "cell_type": "code",
   "execution_count": 22,
   "metadata": {},
   "outputs": [
    {
     "name": "stdout",
     "output_type": "stream",
     "text": [
      "[36. 32. 38. 41. 35. 36. 34. 38. 34. 36. 32. 35. 37. 34. 34. 30. 33. 36.\n",
      " 32. 35. 34. 35. 38. 38. 38. 39. 31. 39. 36. 32. 33. 34. 40. 34. 32. 36.\n",
      " 37. 36. 36. 40. 37. 40. 33. 33. 36. 40. 31. 33. 35. 32. 32. 36. 34. 35.\n",
      " 32. 36. 36. 38. 34. 27. 44. 35. 41. 38. 34. 33. 40. 30. 40. 33. 32. 35.\n",
      " 40. 33. 32. 39. 37. 41. 43. 35. 32. 38. 33. 42. 34. 33. 33. 39. 33. 34.\n",
      " 36. 32. 46. 36. 30. 34. 39. 34. 33. 35.] 35.47\n"
     ]
    }
   ],
   "source": [
    "main()"
   ]
  },
  {
   "cell_type": "code",
   "execution_count": null,
   "metadata": {},
   "outputs": [],
   "source": []
  }
 ],
 "metadata": {
  "kernelspec": {
   "display_name": "Python 3",
   "language": "python",
   "name": "python3"
  },
  "language_info": {
   "codemirror_mode": {
    "name": "ipython",
    "version": 3
   },
   "file_extension": ".py",
   "mimetype": "text/x-python",
   "name": "python",
   "nbconvert_exporter": "python",
   "pygments_lexer": "ipython3",
   "version": "3.7.4"
  }
 },
 "nbformat": 4,
 "nbformat_minor": 2
}

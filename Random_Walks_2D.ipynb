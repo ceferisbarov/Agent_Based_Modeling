{
 "cells": [
  {
   "cell_type": "markdown",
   "metadata": {},
   "source": [
    "# Problem 4 (Two Dimensional)\n",
    "Repeat the exercise above with particles in the middle of the plane and let particles choose between moving up, down, right, and left. How do things change if you let the particle move diagonally? (i.e., there are eight directions of movement). Compare the results of both experiments.\n",
    "## The code:"
   ]
  },
  {
   "cell_type": "code",
   "execution_count": 1,
   "metadata": {},
   "outputs": [],
   "source": [
    "import matplotlib.pyplot as plt\n",
    "import random\n",
    "import copy"
   ]
  },
  {
   "cell_type": "markdown",
   "metadata": {},
   "source": [
    "**create_grid()** function is modified to create an array of 2D arrays:"
   ]
  },
  {
   "cell_type": "code",
   "execution_count": 2,
   "metadata": {},
   "outputs": [],
   "source": [
    "def create_grid(count, length):\n",
    "    grid = [[[0 for i in range(length)] for j in range(length)] for n in range(count)]\n",
    "    \n",
    "    for n in range(count):\n",
    "        grid[n][len(grid[0]) // 2][len(grid[0]) // 2] = 1\n",
    "        \n",
    "    return grid"
   ]
  },
  {
   "cell_type": "markdown",
   "metadata": {},
   "source": [
    "**move()** function is modified to take into account two new directions: \"up\" and \"down:\""
   ]
  },
  {
   "cell_type": "code",
   "execution_count": 3,
   "metadata": {},
   "outputs": [],
   "source": [
    "def move(grid, direction):\n",
    "    for n in range(len(grid)):\n",
    "        if 1 in grid[n]:\n",
    "            index_1 = n\n",
    "\n",
    "    for n in range(len(grid[index_1])):\n",
    "        if grid[index_1][n] == 1:\n",
    "            index_2 = n\n",
    "\n",
    "    if direction == 'right':\n",
    "        grid[index_1][index_2 + 1] = 1\n",
    "        grid[index_1][index_2] = 0\n",
    "        \n",
    "    elif direction == 'left':\n",
    "        grid[index_1][index_2 - 1] = 1\n",
    "        grid[index_1][index_2] = 0\n",
    "    \n",
    "    elif direction == 'up':\n",
    "        grid[index_1 - 1][index_2] = 1\n",
    "        grid[index_1][index_2] = 0\n",
    "        \n",
    "    elif direction == 'down':\n",
    "        grid[index_1 + 1][index_2] = 1\n",
    "        grid[index_1][index_2] = 0"
   ]
  },
  {
   "cell_type": "markdown",
   "metadata": {},
   "source": [
    "**find_mean()** function is modified to collect the n<sup>th</sup> element (=list) of each 2D array in a new array, and then find mean for each of these new arrays separately:"
   ]
  },
  {
   "cell_type": "code",
   "execution_count": 4,
   "metadata": {},
   "outputs": [],
   "source": [
    "def find_mean(list_of_grids):\n",
    "    new_list_of_grids = []\n",
    "    for i in range(len(list_of_grids[0])):\n",
    "        new_list_of_grids.append([])\n",
    "        for j in range(len(list_of_grids)):\n",
    "            new_list_of_grids[i].append(list_of_grids[j][i])\n",
    "\n",
    "    mean = []\n",
    "    for n in new_list_of_grids:\n",
    "        total = [sum(x) for x in zip(*n)]\n",
    "        mean.append([total[i] / len(n) for i in range(len(total))])\n",
    "    \n",
    "    return mean"
   ]
  },
  {
   "cell_type": "markdown",
   "metadata": {},
   "source": [
    "**main()** function has been modified considerably:  \n",
    "- *repeat* variable has been removed. In ideal situation, we would have *count*, *steps*, and *repeat* variables. However, as it makes no statistical difference, I have removed the repeat variable to decrease complexity of the program.  \n",
    "- The loop has been updated to include the new directions: \"up\" and down.\"  \n",
    "- **visualize()** function has been replaced with a much simpler pyplot code."
   ]
  },
  {
   "cell_type": "code",
   "execution_count": 5,
   "metadata": {},
   "outputs": [],
   "source": [
    "def main(count = 1000, steps = 100):\n",
    "    length = 2 * steps\n",
    "    \n",
    "    grid = create_grid(count, length)\n",
    "    plt.imshow(grid[0])\n",
    "    plt.show()\n",
    "    \n",
    "    total_grid = []\n",
    "    for x in range(steps):\n",
    "        for n in range(count):\n",
    "            chance = random.random()\n",
    "            if chance < 0.25:\n",
    "                move(grid[n], 'right')\n",
    "            elif chance < 0.5:\n",
    "                move(grid[n], 'left')\n",
    "            elif chance < 0.75:\n",
    "                move(grid[n], 'up')\n",
    "            else:\n",
    "                move(grid[n], 'down')\n",
    "                            \n",
    "    mean = find_mean(grid)\n",
    "    plt.imshow(mean)\n",
    "    plt.show()"
   ]
  },
  {
   "cell_type": "markdown",
   "metadata": {},
   "source": [
    "## Part I:\n",
    "Repeat the exercise above with particles in the middle of the plane and let particles choose between moving up, down, right, and left.\n",
    "#### Attempt 1:\n",
    "n = 1000  \n",
    "T = 100  \n",
    "(length = 2 * T)  \n",
    "N = 1"
   ]
  },
  {
   "cell_type": "code",
   "execution_count": 6,
   "metadata": {},
   "outputs": [
    {
     "data": {
      "image/png": "[encoded data removed]",
      "text/plain": [
       "<Figure size 432x288 with 1 Axes>"
      ]
     },
     "metadata": {
      "needs_background": "light"
     },
     "output_type": "display_data"
    },
    {
     "data": {
      "image/png": "[encoded data removed]",
      "text/plain": [
       "<Figure size 432x288 with 1 Axes>"
      ]
     },
     "metadata": {
      "needs_background": "light"
     },
     "output_type": "display_data"
    }
   ],
   "source": [
    "main(1000, 100)"
   ]
  }
 ],
 "metadata": {
  "kernelspec": {
   "display_name": "Python 3",
   "language": "python",
   "name": "python3"
  },
  "language_info": {
   "codemirror_mode": {
    "name": "ipython",
    "version": 3
   },
   "file_extension": ".py",
   "mimetype": "text/x-python",
   "name": "python",
   "nbconvert_exporter": "python",
   "pygments_lexer": "ipython3",
   "version": "3.7.4"
  }
 },
 "nbformat": 4,
 "nbformat_minor": 2
}

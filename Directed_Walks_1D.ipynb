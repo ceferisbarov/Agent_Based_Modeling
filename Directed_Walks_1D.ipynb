{
 "cells": [
  {
   "cell_type": "markdown",
   "metadata": {},
   "source": [
    "# Problem 5 (Directed Walks)\n",
    "Start with two different kinds of particles. Think of the particles as predator and a prey. Predators sense and chase prey. In practice, that means that a certain percent of the time, 0 ≤ q ≤ 1, which is fixed and given at the beginning of the simulation, predators will move towards prey and the rest of the time (1 − q), they will just move randomly. Start in one dimension with one predator and one prey and for now let the prey move completely randomly. Vary initial condition and report the time it takes for the predator to reach the prey. This exercise is far more interesting in two and three dimensions; do both, and pick how many directions of movement you want to use.\n",
    "## Part I: 1D"
   ]
  },
  {
   "cell_type": "code",
   "execution_count": 1,
   "metadata": {},
   "outputs": [],
   "source": [
    "import matplotlib.pyplot as plt\n",
    "import random\n",
    "import copy"
   ]
  },
  {
   "cell_type": "code",
   "execution_count": 2,
   "metadata": {},
   "outputs": [],
   "source": [
    "def create_grid(count, length):\n",
    "    '''\n",
    "    Creates an array of double lists with equal length.\n",
    "    The first list shows location of the predator, while the second list shows location of the prey.\n",
    "    '''\n",
    "    grid = [[[0 for i in range(length)] for j in range(2)] for n in range(count)]\n",
    "    \n",
    "    for n in range(count):\n",
    "        #1 symbolizes the predator, -1 symbolizes the prey\n",
    "        grid[n][0][len(grid[0][0]) // 3] = predator\n",
    "        grid[n][1][len(grid[0][1]) * 2 // 3] = prey\n",
    "        \n",
    "    return grid"
   ]
  },
  {
   "cell_type": "code",
   "execution_count": 3,
   "metadata": {},
   "outputs": [],
   "source": [
    "def move_random(grid, animal, direction):\n",
    "    '''Given the direction to move, randomly converts 010 to 100 (left) or 001 (right).'''\n",
    "    index = grid.index(animal)\n",
    "    \n",
    "    if direction == 'right':\n",
    "        grid[index + 1] = animal\n",
    "        grid[index] = 0\n",
    "        \n",
    "    elif direction == 'left':\n",
    "        grid[index - 1] = animal\n",
    "        grid[index] = 0"
   ]
  },
  {
   "cell_type": "code",
   "execution_count": 4,
   "metadata": {},
   "outputs": [],
   "source": [
    "def move_to_prey(grid, direction):\n",
    "    '''Finds position of the prey relative to the predator, and moves the predator towards the prey.'''\n",
    "    \n",
    "    index_predator = grid[0].index(predator)\n",
    "    index_prey = grid[1].index(prey)\n",
    "    \n",
    "    if index_predator > index_prey:\n",
    "        grid[0][index_predator - 1] = predator\n",
    "        grid[0][index_predator] = 0\n",
    "        \n",
    "    elif index_prey > index_predator:\n",
    "        grid[0][index_predator + 1] = predator\n",
    "        grid[0][index_predator] = 0"
   ]
  },
  {
   "cell_type": "code",
   "execution_count": 5,
   "metadata": {},
   "outputs": [],
   "source": [
    "def main():\n",
    "#    print(\"The number of particles (n): \")\n",
    "#    count = int(input())\n",
    "#    print(\"The number of steps (T): \")\n",
    "#    steps = int(input())\n",
    "#    length = 2 * steps\n",
    "#    print(\"The number of repeats (N): \")\n",
    "#    repeat = int(input())\n",
    "\n",
    "    global predator\n",
    "    predator = 1\n",
    "    global prey\n",
    "    prey = -1\n",
    "    \n",
    "    repeat = 100\n",
    "    length = 100\n",
    "    count = 1\n",
    "    q = 1\n",
    "    \n",
    "    total_time = []\n",
    "    \n",
    "    for n in range(repeat):\n",
    "        grid = create_grid(count, length)\n",
    "        time = 0\n",
    "        \n",
    "        while(grid[0][0].index(predator) != grid[0][1].index(prey)):\n",
    "                time += 1\n",
    "                if random.random() < 0.5:\n",
    "                    move_random(grid[0][1], prey, 'right')\n",
    "                else:\n",
    "                    move_random(grid[0][1], prey, 'left')\n",
    "\n",
    "                if random.random() < q:\n",
    "                    move_to_prey(grid[0], 'right')\n",
    "                elif random.random() < 0.5:\n",
    "                     move_random(grid[0][0], predator, 'right')\n",
    "                else:\n",
    "                    move_random(grid[0][0], predator, 'left')\n",
    "                                    \n",
    "        total_time.append(time)\n",
    "                \n",
    "                    \n",
    "                \n",
    "                    \n",
    "    mean = sum(total_time) / len(total_time)    \n",
    "            \n",
    "    print(total_time, mean)"
   ]
  },
  {
   "cell_type": "code",
   "execution_count": 6,
   "metadata": {},
   "outputs": [
    {
     "name": "stdout",
     "output_type": "stream",
     "text": [
      "[28, 33, 26, 28, 32, 34, 30, 34, 37, 37, 32, 26, 33, 30, 38, 30, 28, 39, 34, 44, 38, 39, 31, 36, 40, 28, 33, 24, 34, 37, 30, 41, 30, 31, 30, 47, 32, 32, 35, 39, 37, 33, 33, 33, 33, 35, 39, 38, 33, 30, 28, 36, 27, 38, 30, 25, 35, 42, 45, 32, 29, 28, 41, 30, 29, 29, 43, 37, 48, 29, 40, 46, 40, 29, 38, 32, 23, 24, 34, 36, 28, 35, 28, 28, 29, 27, 30, 35, 39, 32, 34, 29, 33, 33, 35, 29, 26, 34, 41, 26] 33.38\n"
     ]
    }
   ],
   "source": [
    "main()"
   ]
  },
  {
   "cell_type": "code",
   "execution_count": null,
   "metadata": {},
   "outputs": [],
   "source": []
  }
 ],
 "metadata": {
  "kernelspec": {
   "display_name": "Python 3",
   "language": "python",
   "name": "python3"
  },
  "language_info": {
   "codemirror_mode": {
    "name": "ipython",
    "version": 3
   },
   "file_extension": ".py",
   "mimetype": "text/x-python",
   "name": "python",
   "nbconvert_exporter": "python",
   "pygments_lexer": "ipython3",
   "version": "3.7.4"
  }
 },
 "nbformat": 4,
 "nbformat_minor": 2
}
